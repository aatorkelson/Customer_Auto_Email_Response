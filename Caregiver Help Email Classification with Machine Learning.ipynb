{
 "cells": [
  {
   "cell_type": "code",
   "execution_count": 25,
   "metadata": {},
   "outputs": [],
   "source": [
    "import numpy as np\n",
    "import pandas as pd\n",
    "import matplotlib.pyplot as plt\n",
    "import seaborn as sns\n",
    "from queue import *\n",
    "\n",
    "import numpy as np"
   ]
  },
  {
   "cell_type": "markdown",
   "metadata": {},
   "source": [
    "# I. Data Processing and Clean up"
   ]
  },
  {
   "cell_type": "code",
   "execution_count": 26,
   "metadata": {},
   "outputs": [],
   "source": [
    "# Download the caregiver tickets, limit columns, and filter out voicemail tickets.\n",
    "df = pd.read_csv('ticket_export.csv')\n",
    "caregivers = df[['Ticket Number','Summary','Description','Category','Auto Response Used',\\\n",
    "                 'Automated Response?']].iloc[4352:]\n",
    "f1 = caregivers['Automated Response?'].notnull()\n",
    "emails = caregivers[f1]\n",
    "\n",
    "# Concatenate the Summary and Description columns into one column.\n",
    "full_message = []\n",
    "for i in range(len(emails)):\n",
    "    message = emails['Summary'].values[i] + \" \" + emails['Description'].values[i]\n",
    "    full_message.append(message)\n",
    "emails.insert(3,'Message',full_message)"
   ]
  },
  {
   "cell_type": "code",
   "execution_count": 27,
   "metadata": {},
   "outputs": [
    {
     "data": {
      "text/html": [
       "<div>\n",
       "<style scoped>\n",
       "    .dataframe tbody tr th:only-of-type {\n",
       "        vertical-align: middle;\n",
       "    }\n",
       "\n",
       "    .dataframe tbody tr th {\n",
       "        vertical-align: top;\n",
       "    }\n",
       "\n",
       "    .dataframe thead th {\n",
       "        text-align: right;\n",
       "    }\n",
       "</style>\n",
       "<table border=\"1\" class=\"dataframe\">\n",
       "  <thead>\n",
       "    <tr style=\"text-align: right;\">\n",
       "      <th></th>\n",
       "      <th>Ticket Number</th>\n",
       "      <th>Summary</th>\n",
       "      <th>Description</th>\n",
       "      <th>Message</th>\n",
       "      <th>Category</th>\n",
       "      <th>Auto Response Used</th>\n",
       "      <th>Automated Response?</th>\n",
       "      <th>Auto_Response</th>\n",
       "      <th>Script_Title</th>\n",
       "    </tr>\n",
       "  </thead>\n",
       "  <tbody>\n",
       "    <tr>\n",
       "      <th>7884</th>\n",
       "      <td>7953</td>\n",
       "      <td>accidental registration</td>\n",
       "      <td>Hi!\\n\\nI was trying to figure out how much the...</td>\n",
       "      <td>accidental registration Hi!\\n\\nI was trying to...</td>\n",
       "      <td>Cancelation</td>\n",
       "      <td>NaN</td>\n",
       "      <td>No</td>\n",
       "      <td>0.0</td>\n",
       "      <td>No Scripted Response</td>\n",
       "    </tr>\n",
       "    <tr>\n",
       "      <th>7885</th>\n",
       "      <td>7954</td>\n",
       "      <td>Technology Users Approach</td>\n",
       "      <td>Hi,\\n\\n \\n\\nI was hoping if you had a chance t...</td>\n",
       "      <td>Technology Users Approach Hi,\\n\\n \\n\\nI was ho...</td>\n",
       "      <td>SPAM</td>\n",
       "      <td>SPAM</td>\n",
       "      <td>Yes</td>\n",
       "      <td>1.0</td>\n",
       "      <td>Spam</td>\n",
       "    </tr>\n",
       "    <tr>\n",
       "      <th>7888</th>\n",
       "      <td>7957</td>\n",
       "      <td>Form submission from: Caregiver Registration Help</td>\n",
       "      <td>Submitted on Tuesday, March 19, 2019 - 2:10pm\\...</td>\n",
       "      <td>Form submission from: Caregiver Registration H...</td>\n",
       "      <td>Registration</td>\n",
       "      <td>8</td>\n",
       "      <td>Yes</td>\n",
       "      <td>5.0</td>\n",
       "      <td>General Course Registration</td>\n",
       "    </tr>\n",
       "    <tr>\n",
       "      <th>7889</th>\n",
       "      <td>7958</td>\n",
       "      <td>Form submission from: Caregiver Registration Help</td>\n",
       "      <td>Submitted on Tuesday, March 19, 2019 - 3:33pm\\...</td>\n",
       "      <td>Form submission from: Caregiver Registration H...</td>\n",
       "      <td>CCT Online</td>\n",
       "      <td>4</td>\n",
       "      <td>Yes</td>\n",
       "      <td>3.0</td>\n",
       "      <td>CCT Online Registration</td>\n",
       "    </tr>\n",
       "    <tr>\n",
       "      <th>7890</th>\n",
       "      <td>7959</td>\n",
       "      <td>Form submission from: Caregiver Registration Help</td>\n",
       "      <td>Submitted on Tuesday, March 19, 2019 - 3:40pm\\...</td>\n",
       "      <td>Form submission from: Caregiver Registration H...</td>\n",
       "      <td>Registration</td>\n",
       "      <td>8</td>\n",
       "      <td>Yes</td>\n",
       "      <td>5.0</td>\n",
       "      <td>General Course Registration</td>\n",
       "    </tr>\n",
       "  </tbody>\n",
       "</table>\n",
       "</div>"
      ],
      "text/plain": [
       "      Ticket Number                                            Summary  \\\n",
       "7884           7953                            accidental registration   \n",
       "7885           7954                          Technology Users Approach   \n",
       "7888           7957  Form submission from: Caregiver Registration Help   \n",
       "7889           7958  Form submission from: Caregiver Registration Help   \n",
       "7890           7959  Form submission from: Caregiver Registration Help   \n",
       "\n",
       "                                            Description  \\\n",
       "7884  Hi!\\n\\nI was trying to figure out how much the...   \n",
       "7885  Hi,\\n\\n \\n\\nI was hoping if you had a chance t...   \n",
       "7888  Submitted on Tuesday, March 19, 2019 - 2:10pm\\...   \n",
       "7889  Submitted on Tuesday, March 19, 2019 - 3:33pm\\...   \n",
       "7890  Submitted on Tuesday, March 19, 2019 - 3:40pm\\...   \n",
       "\n",
       "                                                Message      Category  \\\n",
       "7884  accidental registration Hi!\\n\\nI was trying to...   Cancelation   \n",
       "7885  Technology Users Approach Hi,\\n\\n \\n\\nI was ho...          SPAM   \n",
       "7888  Form submission from: Caregiver Registration H...  Registration   \n",
       "7889  Form submission from: Caregiver Registration H...    CCT Online   \n",
       "7890  Form submission from: Caregiver Registration H...  Registration   \n",
       "\n",
       "     Auto Response Used Automated Response?  Auto_Response  \\\n",
       "7884                NaN                  No            0.0   \n",
       "7885               SPAM                 Yes            1.0   \n",
       "7888                  8                 Yes            5.0   \n",
       "7889                  4                 Yes            3.0   \n",
       "7890                  8                 Yes            5.0   \n",
       "\n",
       "                     Script_Title  \n",
       "7884         No Scripted Response  \n",
       "7885                         Spam  \n",
       "7888  General Course Registration  \n",
       "7889      CCT Online Registration  \n",
       "7890  General Course Registration  "
      ]
     },
     "execution_count": 27,
     "metadata": {},
     "output_type": "execute_result"
    }
   ],
   "source": [
    "# Function to add column for automated reponses to be numerical and categorical. \n",
    "def responses(df):\n",
    "    auto_response = np.zeros(len(df))\n",
    "    category_response = []\n",
    "\n",
    "    for i in range(len(df)):\n",
    "        response = str(df['Auto Response Used'].values[i])\n",
    "        if response == 'SPAM':\n",
    "            auto_response[i] = 1\n",
    "            category_response.append('Spam')\n",
    "        elif response == '1' or response == '2' or response == '3' or response == '1.0'\\\n",
    "        or response == '2.0' or response == '3.0':\n",
    "            auto_response[i] = 2\n",
    "            category_response.append('CCT Registration')\n",
    "        elif response == '4' or response == '5' or response == '4.0' or response == '5.0':\n",
    "            auto_response[i] = 3\n",
    "            category_response.append('CCT Online Registration')\n",
    "        elif response == '6' or response == '6.0':\n",
    "            auto_response[i] = 4\n",
    "            category_response.append('CCT Online Coaching Session')\n",
    "        elif response == '8' or response == '7' or response == '9' or response == '8.0'\\\n",
    "        or response == '7.0' or response == '9.0':\n",
    "            auto_response[i] = 5\n",
    "            category_response.append('General Course Registration')\n",
    "        elif response == '12' or response == '13' or response == '12.0' or response == '13.0':\n",
    "            auto_response[i] = 6\n",
    "            category_response.append('Password Reset')\n",
    "        elif response == '14' or response == '14.0':\n",
    "            auto_response[i] = 7\n",
    "            category_response.append('CCT Couple')\n",
    "        else: # response is NaN\n",
    "            auto_response[i] = 0\n",
    "            category_response.append('No Scripted Response')\n",
    "    df.insert(len(df.columns),'Auto_Response',auto_response)\n",
    "    df.insert(len(df.columns),'Script_Title',category_response)\n",
    "    return df\n",
    "\n",
    "# Add columns for numerical and categorical auto responses.\n",
    "responses(emails)\n",
    "emails.tail()"
   ]
  },
  {
   "cell_type": "markdown",
   "metadata": {},
   "source": [
    "# II. Classification/Grouping of Auto Response Tickets"
   ]
  },
  {
   "cell_type": "code",
   "execution_count": 28,
   "metadata": {},
   "outputs": [
    {
     "data": {
      "text/html": [
       "<div>\n",
       "<style scoped>\n",
       "    .dataframe tbody tr th:only-of-type {\n",
       "        vertical-align: middle;\n",
       "    }\n",
       "\n",
       "    .dataframe tbody tr th {\n",
       "        vertical-align: top;\n",
       "    }\n",
       "\n",
       "    .dataframe thead th {\n",
       "        text-align: right;\n",
       "    }\n",
       "</style>\n",
       "<table border=\"1\" class=\"dataframe\">\n",
       "  <thead>\n",
       "    <tr style=\"text-align: right;\">\n",
       "      <th></th>\n",
       "      <th>Ticket Number</th>\n",
       "      <th>Message</th>\n",
       "      <th>Category</th>\n",
       "      <th>Auto_Response</th>\n",
       "      <th>Script_Title</th>\n",
       "    </tr>\n",
       "  </thead>\n",
       "  <tbody>\n",
       "    <tr>\n",
       "      <th>7884</th>\n",
       "      <td>7953</td>\n",
       "      <td>accidental registration Hi!\\n\\nI was trying to...</td>\n",
       "      <td>Cancelation</td>\n",
       "      <td>0.0</td>\n",
       "      <td>No Scripted Response</td>\n",
       "    </tr>\n",
       "    <tr>\n",
       "      <th>7885</th>\n",
       "      <td>7954</td>\n",
       "      <td>Technology Users Approach Hi,\\n\\n \\n\\nI was ho...</td>\n",
       "      <td>SPAM</td>\n",
       "      <td>1.0</td>\n",
       "      <td>Spam</td>\n",
       "    </tr>\n",
       "    <tr>\n",
       "      <th>7888</th>\n",
       "      <td>7957</td>\n",
       "      <td>Form submission from: Caregiver Registration H...</td>\n",
       "      <td>Registration</td>\n",
       "      <td>5.0</td>\n",
       "      <td>General Course Registration</td>\n",
       "    </tr>\n",
       "    <tr>\n",
       "      <th>7889</th>\n",
       "      <td>7958</td>\n",
       "      <td>Form submission from: Caregiver Registration H...</td>\n",
       "      <td>CCT Online</td>\n",
       "      <td>3.0</td>\n",
       "      <td>CCT Online Registration</td>\n",
       "    </tr>\n",
       "    <tr>\n",
       "      <th>7890</th>\n",
       "      <td>7959</td>\n",
       "      <td>Form submission from: Caregiver Registration H...</td>\n",
       "      <td>Registration</td>\n",
       "      <td>5.0</td>\n",
       "      <td>General Course Registration</td>\n",
       "    </tr>\n",
       "  </tbody>\n",
       "</table>\n",
       "</div>"
      ],
      "text/plain": [
       "      Ticket Number                                            Message  \\\n",
       "7884           7953  accidental registration Hi!\\n\\nI was trying to...   \n",
       "7885           7954  Technology Users Approach Hi,\\n\\n \\n\\nI was ho...   \n",
       "7888           7957  Form submission from: Caregiver Registration H...   \n",
       "7889           7958  Form submission from: Caregiver Registration H...   \n",
       "7890           7959  Form submission from: Caregiver Registration H...   \n",
       "\n",
       "          Category  Auto_Response                 Script_Title  \n",
       "7884   Cancelation            0.0         No Scripted Response  \n",
       "7885          SPAM            1.0                         Spam  \n",
       "7888  Registration            5.0  General Course Registration  \n",
       "7889    CCT Online            3.0      CCT Online Registration  \n",
       "7890  Registration            5.0  General Course Registration  "
      ]
     },
     "execution_count": 28,
     "metadata": {},
     "output_type": "execute_result"
    }
   ],
   "source": [
    "# Display only the categories important for the training algorithm.\n",
    "training = emails[['Ticket Number','Message','Category','Auto_Response','Script_Title']]\n",
    "training.tail()"
   ]
  },
  {
   "cell_type": "code",
   "execution_count": 29,
   "metadata": {
    "scrolled": false
   },
   "outputs": [
    {
     "name": "stdout",
     "output_type": "stream",
     "text": [
      "[635 550 713  71  10 305  47   9]\n"
     ]
    },
    {
     "data": {
      "text/plain": [
       "Text(0, 0.5, 'Number of Occurrences')"
      ]
     },
     "execution_count": 29,
     "metadata": {},
     "output_type": "execute_result"
    },
    {
     "data": {
      "image/png": "[encoded data removed]",
      "text/plain": [
       "<Figure size 720x360 with 1 Axes>"
      ]
     },
     "metadata": {},
     "output_type": "display_data"
    }
   ],
   "source": [
    "# The distribution of auto responses across all email tickets.\n",
    "auto_counts = training.groupby('Auto_Response').Category.count().values[:]\n",
    "print(auto_counts)\n",
    "response = np.arange(0,8,1)\n",
    "\n",
    "sns.set(style='whitegrid')\n",
    "sns.set(font_scale=1.2)\n",
    "\n",
    "f, ax = plt.subplots(figsize=(10,5))\n",
    "ax = sns.barplot(x=response,y=auto_counts,color='royalblue')\n",
    "ax.set_xlabel('Auto Response Type')\n",
    "ax.set_ylabel('Number of Occurrences')"
   ]
  },
  {
   "cell_type": "markdown",
   "metadata": {},
   "source": [
    "# III. Training a Classifier (Naive Bayes)"
   ]
  },
  {
   "cell_type": "code",
   "execution_count": 30,
   "metadata": {},
   "outputs": [],
   "source": [
    "from sklearn.model_selection import train_test_split\n",
    "from sklearn.feature_extraction.text import CountVectorizer\n",
    "from sklearn.feature_extraction.text import TfidfTransformer\n",
    "from sklearn.naive_bayes import MultinomialNB\n",
    "from sklearn.pipeline import Pipeline\n",
    "\n",
    "# Split the data randomly into training and testing sets.\n",
    "X_train, X_test, y_train, y_test = train_test_split(training['Message'], training['Script_Title'], random_state = 0)\n",
    "\n",
    "# Word counts in messages (Count Vectorizer) that are then converted to term frequencies (tf-idf).\n",
    "count_vect = CountVectorizer()\n",
    "X_train_counts = count_vect.fit_transform(X_train)\n",
    "tfidf_transformer = TfidfTransformer()\n",
    "X_train_tfidf = tfidf_transformer.fit_transform(X_train_counts)\n",
    "\n",
    "# Naive Bayes Classifier\n",
    "clf = MultinomialNB().fit(X_train_tfidf, y_train)"
   ]
  },
  {
   "cell_type": "markdown",
   "metadata": {},
   "source": [
    "## Single Predictions After Fitting the Training Set with Naive Bayes"
   ]
  },
  {
   "cell_type": "code",
   "execution_count": 31,
   "metadata": {},
   "outputs": [
    {
     "data": {
      "text/plain": [
       "'SEO hi info\\n\\nHere is the plan\\nhttp://www.conversionseo.co/\\n\\nIna Maltby'"
      ]
     },
     "execution_count": 31,
     "metadata": {},
     "output_type": "execute_result"
    }
   ],
   "source": [
    "training['Message'].values[2222]"
   ]
  },
  {
   "cell_type": "code",
   "execution_count": 32,
   "metadata": {},
   "outputs": [
    {
     "name": "stdout",
     "output_type": "stream",
     "text": [
      "['Spam']\n"
     ]
    }
   ],
   "source": [
    "print(clf.predict(count_vect.transform(['SEO hi info\\n\\nHere is the plan\\nhttp://www.'\\\n",
    "                                        'conversionseo.co/\\n\\nIna Maltby'])))"
   ]
  },
  {
   "cell_type": "code",
   "execution_count": 33,
   "metadata": {
    "scrolled": true
   },
   "outputs": [
    {
     "data": {
      "text/plain": [
       "'Spam'"
      ]
     },
     "execution_count": 33,
     "metadata": {},
     "output_type": "execute_result"
    }
   ],
   "source": [
    "training['Script_Title'].values[2222]"
   ]
  },
  {
   "cell_type": "code",
   "execution_count": 34,
   "metadata": {},
   "outputs": [
    {
     "data": {
      "text/plain": [
       "'6O4956 ⒈0000多種電子遊戲返水3.0‰手拵餸最高3888逢8必發特碼48.89倍，天天限琻大回饋'"
      ]
     },
     "execution_count": 34,
     "metadata": {},
     "output_type": "execute_result"
    }
   ],
   "source": [
    "training['Message'].values[2000]"
   ]
  },
  {
   "cell_type": "code",
   "execution_count": 35,
   "metadata": {},
   "outputs": [
    {
     "name": "stdout",
     "output_type": "stream",
     "text": [
      "['Spam']\n"
     ]
    }
   ],
   "source": [
    "print(clf.predict(count_vect.transform([training['Message'].values[2000]])))"
   ]
  },
  {
   "cell_type": "code",
   "execution_count": 36,
   "metadata": {},
   "outputs": [
    {
     "data": {
      "text/plain": [
       "\"Caregivers Core Training - Everett Hello,\\n\\nI see that you have a caregivers core training event in Everett, starting\\n2/15/18, however I don't see any other sessions scheduled for the Everett\\narea. Are you able to confirm when the next session in Everett will be\\nstarting? Or can you advise when the website will be updated with other\\ndates scheduled for  2018 for other venues?\\n\\nThanks\""
      ]
     },
     "execution_count": 36,
     "metadata": {},
     "output_type": "execute_result"
    }
   ],
   "source": [
    "training['Message'].values[51]"
   ]
  },
  {
   "cell_type": "code",
   "execution_count": 37,
   "metadata": {},
   "outputs": [
    {
     "name": "stdout",
     "output_type": "stream",
     "text": [
      "['No Scripted Response']\n"
     ]
    }
   ],
   "source": [
    "print(clf.predict(count_vect.transform([\"Caregivers Core Training - Everett Hello,\\n\\nI see \"\\\n",
    "                                        \"that you have a caregivers core training event in Everett,\"\\\n",
    "                                        \" starting\\n2/15/18, however I don't see any other\"\\\n",
    "                                        \"sessions scheduled for the Everett\\narea. Are you able\"\\\n",
    "                                        \"to confirm when the next session in Everett will be\\nstarting?\"\\\n",
    "                                        \" Or can you advise when the website will be updated with\"\\\n",
    "                                        \"other\\ndates scheduled for  2018 for other venues?\\n\\nThanks\"])))"
   ]
  },
  {
   "cell_type": "code",
   "execution_count": 38,
   "metadata": {},
   "outputs": [
    {
     "data": {
      "text/plain": [
       "'No Scripted Response'"
      ]
     },
     "execution_count": 38,
     "metadata": {},
     "output_type": "execute_result"
    }
   ],
   "source": [
    "training['Script_Title'].values[51]"
   ]
  },
  {
   "cell_type": "markdown",
   "metadata": {},
   "source": [
    "# IV. Machine Learning Model Performance Evaluation"
   ]
  },
  {
   "cell_type": "markdown",
   "metadata": {},
   "source": [
    "## Naive Bayes Performance Evaluation"
   ]
  },
  {
   "cell_type": "code",
   "execution_count": 39,
   "metadata": {},
   "outputs": [
    {
     "name": "stdout",
     "output_type": "stream",
     "text": [
      "MultinomialNB accuracy = 72.4786%\n"
     ]
    }
   ],
   "source": [
    "from sklearn.pipeline import Pipeline\n",
    "\n",
    "# Use pipeline class to ease conversion from word counts --> term frequencies --> Naive Boyes classifier.\n",
    "text_clf = Pipeline([('vect',CountVectorizer()),('tfidf',TfidfTransformer()),('clf',MultinomialNB())])\n",
    "text_clf.fit(X_train,y_train)\n",
    "\n",
    "# Evaluate predictive accuracy of the model\n",
    "predicted = text_clf.predict(X_test)\n",
    "NB_accuracy = np.round(np.mean(predicted == y_test)*100,4)\n",
    "print('MultinomialNB accuracy = ' + str(NB_accuracy)+'%')"
   ]
  },
  {
   "cell_type": "markdown",
   "metadata": {},
   "source": [
    "## Other Model Evaluations (Random Forest, Linear Support Vector Machine, Logistic Regression)"
   ]
  },
  {
   "cell_type": "code",
   "execution_count": 40,
   "metadata": {},
   "outputs": [
    {
     "name": "stderr",
     "output_type": "stream",
     "text": [
      "C:\\Users\\CASTAFF\\Anaconda3\\lib\\site-packages\\sklearn\\linear_model\\logistic.py:433: FutureWarning: Default solver will be changed to 'lbfgs' in 0.22. Specify a solver to silence this warning.\n",
      "  FutureWarning)\n",
      "C:\\Users\\CASTAFF\\Anaconda3\\lib\\site-packages\\sklearn\\linear_model\\logistic.py:460: FutureWarning: Default multi_class will be changed to 'auto' in 0.22. Specify the multi_class option to silence this warning.\n",
      "  \"this warning.\", FutureWarning)\n",
      "C:\\Users\\CASTAFF\\Anaconda3\\lib\\site-packages\\sklearn\\linear_model\\stochastic_gradient.py:183: FutureWarning: max_iter and tol parameters have been added in SGDClassifier in 0.19. If max_iter is set but tol is left unset, the default value for tol in 0.19 and 0.20 will be None (which is equivalent to -infinity, so it has no effect) but will change in 0.21 to 1e-3. Specify tol to silence this warning.\n",
      "  FutureWarning)\n"
     ]
    },
    {
     "data": {
      "text/html": [
       "<div>\n",
       "<style scoped>\n",
       "    .dataframe tbody tr th:only-of-type {\n",
       "        vertical-align: middle;\n",
       "    }\n",
       "\n",
       "    .dataframe tbody tr th {\n",
       "        vertical-align: top;\n",
       "    }\n",
       "\n",
       "    .dataframe thead th {\n",
       "        text-align: right;\n",
       "    }\n",
       "</style>\n",
       "<table border=\"1\" class=\"dataframe\">\n",
       "  <thead>\n",
       "    <tr style=\"text-align: right;\">\n",
       "      <th></th>\n",
       "      <th>Model_Name</th>\n",
       "      <th>Accuracy</th>\n",
       "    </tr>\n",
       "  </thead>\n",
       "  <tbody>\n",
       "    <tr>\n",
       "      <th>0</th>\n",
       "      <td>Multinomial NB</td>\n",
       "      <td>72.4786</td>\n",
       "    </tr>\n",
       "    <tr>\n",
       "      <th>1</th>\n",
       "      <td>Random Forest</td>\n",
       "      <td>58.6325</td>\n",
       "    </tr>\n",
       "    <tr>\n",
       "      <th>2</th>\n",
       "      <td>Linear SVC</td>\n",
       "      <td>84.7863</td>\n",
       "    </tr>\n",
       "    <tr>\n",
       "      <th>3</th>\n",
       "      <td>Logistic Regression</td>\n",
       "      <td>82.5641</td>\n",
       "    </tr>\n",
       "    <tr>\n",
       "      <th>4</th>\n",
       "      <td>SGD Classifier</td>\n",
       "      <td>84.7863</td>\n",
       "    </tr>\n",
       "  </tbody>\n",
       "</table>\n",
       "</div>"
      ],
      "text/plain": [
       "            Model_Name  Accuracy\n",
       "0       Multinomial NB   72.4786\n",
       "1        Random Forest   58.6325\n",
       "2           Linear SVC   84.7863\n",
       "3  Logistic Regression   82.5641\n",
       "4       SGD Classifier   84.7863"
      ]
     },
     "execution_count": 40,
     "metadata": {},
     "output_type": "execute_result"
    }
   ],
   "source": [
    "from sklearn.linear_model import LogisticRegression\n",
    "from sklearn.ensemble import RandomForestClassifier\n",
    "from sklearn.svm import LinearSVC\n",
    "from sklearn.linear_model import SGDClassifier\n",
    "\n",
    "models = [RandomForestClassifier(n_estimators=200,max_depth=3,random_state=0),LinearSVC(),\\\n",
    "          LogisticRegression(random_state=0),SGDClassifier(loss='hinge',penalty='l2',\\\n",
    "                                                           alpha=0.001, random_state=0,\\\n",
    "                                                           max_iter=5, tol=None)]\n",
    "accuracy = np.zeros(5)\n",
    "accuracy[0]= NB_accuracy\n",
    "\n",
    "for i in range(len(models)):\n",
    "    text_clf = Pipeline([('vect',CountVectorizer()),('tfidf',TfidfTransformer()),('clf',models[i])])\n",
    "    text_clf.fit(X_train,y_train)\n",
    "    predicted = text_clf.predict(X_test)\n",
    "    accuracy[i+1] = np.round(np.mean(predicted == y_test)*100,4)\n",
    "model_results = pd.DataFrame({'Model_Name': ['Multinomial NB','Random Forest','Linear SVC',\\\n",
    "                                             'Logistic Regression','SGD Classifier'],'Accuracy' : accuracy})\n",
    "model_results"
   ]
  },
  {
   "cell_type": "code",
   "execution_count": 41,
   "metadata": {},
   "outputs": [
    {
     "data": {
      "image/png": "[encoded data removed]",
      "text/plain": [
       "<Figure size 720x360 with 1 Axes>"
      ]
     },
     "metadata": {},
     "output_type": "display_data"
    }
   ],
   "source": [
    "# Graph the accuracy findings.\n",
    "f, ax = plt.subplots(figsize=(10,5))\n",
    "ax = sns.boxplot(x=model_results['Model_Name'],y=model_results['Accuracy'])"
   ]
  },
  {
   "cell_type": "markdown",
   "metadata": {},
   "source": [
    "# V. Confusion Matrix for Linear SVC Model"
   ]
  },
  {
   "cell_type": "code",
   "execution_count": 42,
   "metadata": {},
   "outputs": [
    {
     "name": "stdout",
     "output_type": "stream",
     "text": [
      "Accuracy = 84.9935%\n"
     ]
    },
    {
     "data": {
      "image/png": "[encoded data removed]",
      "text/plain": [
       "<Figure size 720x720 with 2 Axes>"
      ]
     },
     "metadata": {},
     "output_type": "display_data"
    }
   ],
   "source": [
    "# Produce a confusion matrix to show discrepancies between model and results.\n",
    "from sklearn.metrics import confusion_matrix\n",
    "\n",
    "X_train_2, X_test_2, y_train_2, y_test_2 = train_test_split(training['Message'],\\\n",
    "                                                            training['Script_Title'],\\\n",
    "                                                            test_size = 0.33,random_state = 0)\n",
    "text_clf = Pipeline([('vect',CountVectorizer()),('tfidf',TfidfTransformer()),('clf',LinearSVC())])\n",
    "text_clf.fit(X_train_2,y_train_2)\n",
    "y_predicted = text_clf.predict(X_test_2)\n",
    "script_responses = training[['Auto_Response','Script_Title']].drop_duplicates().\\\n",
    "                   sort_values('Auto_Response').Script_Title.values\n",
    "print('Accuracy = ' + str(np.round(np.mean(y_predicted == y_test_2)*100,4)) + '%')\n",
    "\n",
    "conf_mat = confusion_matrix(y_test_2, y_predicted,labels=script_responses)\n",
    "fig, ax = plt.subplots(figsize=(10,10))\n",
    "sns.heatmap(conf_mat,annot=True,fmt='d',xticklabels=script_responses, yticklabels=script_responses)\n",
    "plt.ylabel('Actual')\n",
    "plt.xlabel('Predicted')\n",
    "plt.show()"
   ]
  },
  {
   "cell_type": "markdown",
   "metadata": {},
   "source": [
    "# VI. Testing with Real Incoming Tickets"
   ]
  },
  {
   "cell_type": "code",
   "execution_count": 43,
   "metadata": {},
   "outputs": [
    {
     "data": {
      "text/html": [
       "<div>\n",
       "<style scoped>\n",
       "    .dataframe tbody tr th:only-of-type {\n",
       "        vertical-align: middle;\n",
       "    }\n",
       "\n",
       "    .dataframe tbody tr th {\n",
       "        vertical-align: top;\n",
       "    }\n",
       "\n",
       "    .dataframe thead th {\n",
       "        text-align: right;\n",
       "    }\n",
       "</style>\n",
       "<table border=\"1\" class=\"dataframe\">\n",
       "  <thead>\n",
       "    <tr style=\"text-align: right;\">\n",
       "      <th></th>\n",
       "      <th>Date</th>\n",
       "      <th>Ticket Number</th>\n",
       "      <th>Message</th>\n",
       "      <th>Auto Response Used</th>\n",
       "    </tr>\n",
       "  </thead>\n",
       "  <tbody>\n",
       "    <tr>\n",
       "      <th>0</th>\n",
       "      <td>03/20/2019</td>\n",
       "      <td>7960</td>\n",
       "      <td>Outstanding Offer For Dell EMC World Exhibitor...</td>\n",
       "      <td>SPAM</td>\n",
       "    </tr>\n",
       "    <tr>\n",
       "      <th>1</th>\n",
       "      <td>03/20/2019</td>\n",
       "      <td>7961</td>\n",
       "      <td>Form submission from: Caregiver Registration H...</td>\n",
       "      <td>8</td>\n",
       "    </tr>\n",
       "    <tr>\n",
       "      <th>2</th>\n",
       "      <td>03/20/2019</td>\n",
       "      <td>7962</td>\n",
       "      <td>Form submission from: Caregiver Registration H...</td>\n",
       "      <td>5</td>\n",
       "    </tr>\n",
       "  </tbody>\n",
       "</table>\n",
       "</div>"
      ],
      "text/plain": [
       "         Date  Ticket Number  \\\n",
       "0  03/20/2019           7960   \n",
       "1  03/20/2019           7961   \n",
       "2  03/20/2019           7962   \n",
       "\n",
       "                                             Message Auto Response Used  \n",
       "0  Outstanding Offer For Dell EMC World Exhibitor...               SPAM  \n",
       "1  Form submission from: Caregiver Registration H...                  8  \n",
       "2  Form submission from: Caregiver Registration H...                  5  "
      ]
     },
     "execution_count": 43,
     "metadata": {},
     "output_type": "execute_result"
    }
   ],
   "source": [
    "# Import new tickets from the day.\n",
    "df = pd.read_csv('new_tickets.csv',encoding='ANSI')\n",
    "voicemail_tickets = df['Summary'].str.contains('Voice msg')\n",
    "email_tickets = df[~voicemail_tickets]\n",
    "new_tickets = email_tickets[['Created On','Ticket Number','Summary','Description','Auto Response Used']]\n",
    "\n",
    "# Concatenate the Summary and Description into a Message.\n",
    "messages = []\n",
    "for i in range(len(new_tickets)):\n",
    "    message = new_tickets['Summary'].values[i] + ' ' + new_tickets['Description'].values[i]\n",
    "    messages.append(message)\n",
    "new_tickets.insert(3,'Message',messages)\n",
    "incoming = new_tickets.drop(columns=['Summary','Description'])\n",
    "\n",
    "# Change the date/time in 'Created On' column to be just the date and drop the time.\n",
    "from datetime import datetime\n",
    "month_year = []\n",
    "for i in range(len(incoming)):\n",
    "    raw_date = incoming['Created On'].values[i].split(\" \")[0]\n",
    "    date = datetime.strptime(raw_date,\"%m/%d/%Y\").strftime('%m/%d/%Y')\n",
    "    month_year.append(date)\n",
    "incoming.insert(1,'Date',month_year)\n",
    "incoming = incoming.drop(columns=['Created On'])\n",
    "incoming.iloc[0:3]"
   ]
  },
  {
   "cell_type": "code",
   "execution_count": 44,
   "metadata": {},
   "outputs": [
    {
     "data": {
      "text/plain": [
       "Pipeline(memory=None,\n",
       "     steps=[('vect', CountVectorizer(analyzer='word', binary=False, decode_error='strict',\n",
       "        dtype=<class 'numpy.int64'>, encoding='utf-8', input='content',\n",
       "        lowercase=True, max_df=1.0, max_features=None, min_df=1,\n",
       "        ngram_range=(1, 1), preprocessor=None, stop_words=None,\n",
       "        strip...ax_iter=1000,\n",
       "     multi_class='ovr', penalty='l2', random_state=None, tol=0.0001,\n",
       "     verbose=0))])"
      ]
     },
     "execution_count": 44,
     "metadata": {},
     "output_type": "execute_result"
    }
   ],
   "source": [
    "# Train the model with all previous caregiver tickets.\n",
    "\n",
    "incoming_clf = Pipeline([('vect',CountVectorizer()),('tfidf',TfidfTransformer()),('clf',LinearSVC())])\n",
    "incoming_clf.fit(training['Message'],training['Script_Title'])"
   ]
  },
  {
   "cell_type": "code",
   "execution_count": 45,
   "metadata": {},
   "outputs": [
    {
     "data": {
      "text/html": [
       "<div>\n",
       "<style scoped>\n",
       "    .dataframe tbody tr th:only-of-type {\n",
       "        vertical-align: middle;\n",
       "    }\n",
       "\n",
       "    .dataframe tbody tr th {\n",
       "        vertical-align: top;\n",
       "    }\n",
       "\n",
       "    .dataframe thead th {\n",
       "        text-align: right;\n",
       "    }\n",
       "</style>\n",
       "<table border=\"1\" class=\"dataframe\">\n",
       "  <thead>\n",
       "    <tr style=\"text-align: right;\">\n",
       "      <th></th>\n",
       "      <th>Date</th>\n",
       "      <th>Ticket Number</th>\n",
       "      <th>Message</th>\n",
       "      <th>Auto Response Used</th>\n",
       "      <th>Auto_Response</th>\n",
       "      <th>Script_Title</th>\n",
       "      <th>Predicted_Script</th>\n",
       "      <th>Correct Response</th>\n",
       "    </tr>\n",
       "  </thead>\n",
       "  <tbody>\n",
       "    <tr>\n",
       "      <th>0</th>\n",
       "      <td>03/20/2019</td>\n",
       "      <td>7960</td>\n",
       "      <td>Outstanding Offer For Dell EMC World Exhibitor...</td>\n",
       "      <td>SPAM</td>\n",
       "      <td>1.0</td>\n",
       "      <td>Spam</td>\n",
       "      <td>Spam</td>\n",
       "      <td>1.0</td>\n",
       "    </tr>\n",
       "    <tr>\n",
       "      <th>1</th>\n",
       "      <td>03/20/2019</td>\n",
       "      <td>7961</td>\n",
       "      <td>Form submission from: Caregiver Registration H...</td>\n",
       "      <td>8</td>\n",
       "      <td>5.0</td>\n",
       "      <td>General Course Registration</td>\n",
       "      <td>General Course Registration</td>\n",
       "      <td>1.0</td>\n",
       "    </tr>\n",
       "    <tr>\n",
       "      <th>2</th>\n",
       "      <td>03/20/2019</td>\n",
       "      <td>7962</td>\n",
       "      <td>Form submission from: Caregiver Registration H...</td>\n",
       "      <td>5</td>\n",
       "      <td>3.0</td>\n",
       "      <td>CCT Online Registration</td>\n",
       "      <td>CCT Online Registration</td>\n",
       "      <td>1.0</td>\n",
       "    </tr>\n",
       "  </tbody>\n",
       "</table>\n",
       "</div>"
      ],
      "text/plain": [
       "         Date  Ticket Number  \\\n",
       "0  03/20/2019           7960   \n",
       "1  03/20/2019           7961   \n",
       "2  03/20/2019           7962   \n",
       "\n",
       "                                             Message Auto Response Used  \\\n",
       "0  Outstanding Offer For Dell EMC World Exhibitor...               SPAM   \n",
       "1  Form submission from: Caregiver Registration H...                  8   \n",
       "2  Form submission from: Caregiver Registration H...                  5   \n",
       "\n",
       "   Auto_Response                 Script_Title             Predicted_Script  \\\n",
       "0            1.0                         Spam                         Spam   \n",
       "1            5.0  General Course Registration  General Course Registration   \n",
       "2            3.0      CCT Online Registration      CCT Online Registration   \n",
       "\n",
       "   Correct Response  \n",
       "0               1.0  \n",
       "1               1.0  \n",
       "2               1.0  "
      ]
     },
     "execution_count": 45,
     "metadata": {},
     "output_type": "execute_result"
    }
   ],
   "source": [
    "# Test the model against the new tickets. Create dataframe for the day's tickets and human response.\n",
    "responses(incoming)\n",
    "predicted_script = incoming_clf.predict(incoming['Message'])\n",
    "incoming['Predicted_Script'] = predicted_script\n",
    "\n",
    "# Add column that signifies whether the program predicted the correct response (as determined by a human).\n",
    "correct_response = np.zeros(len(incoming))\n",
    "for i in range(len(incoming)):\n",
    "    if incoming['Script_Title'].values[i] == incoming['Predicted_Script'].values[i]:\n",
    "        correct_response[i] = 1\n",
    "    else: #incoming['Script_Title'].values[i] != incoming['Predicted_Script'].values[i]\n",
    "        correct_response[i] = 0\n",
    "incoming['Correct Response'] = correct_response\n",
    "incoming.iloc[0:3]"
   ]
  },
  {
   "cell_type": "code",
   "execution_count": 46,
   "metadata": {},
   "outputs": [
    {
     "data": {
      "text/html": [
       "<div>\n",
       "<style scoped>\n",
       "    .dataframe tbody tr th:only-of-type {\n",
       "        vertical-align: middle;\n",
       "    }\n",
       "\n",
       "    .dataframe tbody tr th {\n",
       "        vertical-align: top;\n",
       "    }\n",
       "\n",
       "    .dataframe thead th {\n",
       "        text-align: right;\n",
       "    }\n",
       "</style>\n",
       "<table border=\"1\" class=\"dataframe\">\n",
       "  <thead>\n",
       "    <tr style=\"text-align: right;\">\n",
       "      <th></th>\n",
       "      <th>Dates</th>\n",
       "      <th>Daily Accuracy (%)</th>\n",
       "      <th>Moving Accuracy (%)</th>\n",
       "    </tr>\n",
       "  </thead>\n",
       "  <tbody>\n",
       "    <tr>\n",
       "      <th>0</th>\n",
       "      <td>03/20/2019</td>\n",
       "      <td>100.0</td>\n",
       "      <td>100.0</td>\n",
       "    </tr>\n",
       "    <tr>\n",
       "      <th>1</th>\n",
       "      <td>03/21/2019</td>\n",
       "      <td>50.0</td>\n",
       "      <td>83.3</td>\n",
       "    </tr>\n",
       "    <tr>\n",
       "      <th>2</th>\n",
       "      <td>03/22/2019</td>\n",
       "      <td>100.0</td>\n",
       "      <td>88.9</td>\n",
       "    </tr>\n",
       "    <tr>\n",
       "      <th>3</th>\n",
       "      <td>03/23/2019</td>\n",
       "      <td>100.0</td>\n",
       "      <td>90.9</td>\n",
       "    </tr>\n",
       "    <tr>\n",
       "      <th>4</th>\n",
       "      <td>03/24/2019</td>\n",
       "      <td>100.0</td>\n",
       "      <td>94.7</td>\n",
       "    </tr>\n",
       "    <tr>\n",
       "      <th>5</th>\n",
       "      <td>03/25/2019</td>\n",
       "      <td>100.0</td>\n",
       "      <td>95.7</td>\n",
       "    </tr>\n",
       "  </tbody>\n",
       "</table>\n",
       "</div>"
      ],
      "text/plain": [
       "        Dates  Daily Accuracy (%)  Moving Accuracy (%)\n",
       "0  03/20/2019               100.0                100.0\n",
       "1  03/21/2019                50.0                 83.3\n",
       "2  03/22/2019               100.0                 88.9\n",
       "3  03/23/2019               100.0                 90.9\n",
       "4  03/24/2019               100.0                 94.7\n",
       "5  03/25/2019               100.0                 95.7"
      ]
     },
     "execution_count": 46,
     "metadata": {},
     "output_type": "execute_result"
    }
   ],
   "source": [
    "# Calculate the daily and total moving accuracy.\n",
    "\n",
    "# Create a dictionary that pairs dates with the total number of tickets that were correct.\n",
    "accuracy_counts = {}\n",
    "total_counts = {}\n",
    "for i in range(len(incoming)):\n",
    "    date = incoming['Date'].values[i]\n",
    "    if date in accuracy_counts:\n",
    "        accuracy_counts[date] += incoming['Correct Response'].values[i]\n",
    "        total_counts[date] += 1\n",
    "    else: # date not in dates\n",
    "        accuracy_counts[date] = incoming['Correct Response'].values[i]\n",
    "        total_counts[date] = 1\n",
    "\n",
    "# Calculate the accuracy for each date and add to a DataFrame.\n",
    "daily_accuracy = []\n",
    "dates = []\n",
    "daily_results = pd.DataFrame()\n",
    "for date in accuracy_counts:\n",
    "    num_tickets = total_counts[date]\n",
    "    correct_tickets = accuracy_counts[date]\n",
    "    daily_accuracy.append(correct_tickets / num_tickets * 100)\n",
    "    dates.append(date)\n",
    "daily_results['Dates'] = dates\n",
    "daily_results['Daily Accuracy (%)'] = daily_accuracy\n",
    "\n",
    "# Calculate the overall moving accuracy.\n",
    "moving_accuracy = []\n",
    "for date in accuracy_counts:\n",
    "    date_filter = incoming['Date'] <= date\n",
    "    past_dates = incoming[date_filter]\n",
    "    correct_count = sum(past_dates['Correct Response'])\n",
    "    total_tickets = len(past_dates)\n",
    "    moving_accuracy.append(np.round(correct_count / total_tickets * 100,1))\n",
    "daily_results.insert(2,'Moving Accuracy (%)', moving_accuracy)\n",
    "daily_results"
   ]
  },
  {
   "cell_type": "code",
   "execution_count": 47,
   "metadata": {},
   "outputs": [
    {
     "name": "stdout",
     "output_type": "stream",
     "text": [
      "The program's total accuracy on incoming tickets: 95.6522%\n"
     ]
    }
   ],
   "source": [
    "# Calculate the total accuracy as a percent.\n",
    "\n",
    "total_accuracy = np.round(sum(incoming['Correct Response']) / len(incoming) * 100,4)\n",
    "print(\"The program's total accuracy on incoming tickets: \" + str(total_accuracy) + \"%\")"
   ]
  },
  {
   "cell_type": "markdown",
   "metadata": {},
   "source": [
    "# VII. Summarizing the Daily Accuracy Over Time"
   ]
  },
  {
   "cell_type": "code",
   "execution_count": 48,
   "metadata": {},
   "outputs": [
    {
     "data": {
      "text/plain": [
       "<matplotlib.legend.Legend at 0x1fa222296d8>"
      ]
     },
     "execution_count": 48,
     "metadata": {},
     "output_type": "execute_result"
    },
    {
     "data": {
      "image/png": "[encoded data removed]",
      "text/plain": [
       "<Figure size 720x360 with 1 Axes>"
      ]
     },
     "metadata": {},
     "output_type": "display_data"
    }
   ],
   "source": [
    "# Graph the daily accuracy and moving accuracy over time.\n",
    "fig, ax = plt.subplots(figsize=(10,5))\n",
    "ax = sns.lineplot(x='Dates',y='Daily Accuracy (%)',data = daily_results,label='Daily Accuracy',\\\n",
    "                  color='royalblue')\n",
    "ax = sns.lineplot(x='Dates',y='Moving Accuracy (%)',data = daily_results,label='Moving Accuracy',\\\n",
    "                  color='orangered')\n",
    "ax.set_xlabel('Date')\n",
    "ax.set_ylabel('Accuracy (%)')\n",
    "ax.set_yticks(np.arange(0,110,10))\n",
    "ax.legend(ncol=1,loc='center right',frameon=True)"
   ]
  },
  {
   "cell_type": "code",
   "execution_count": null,
   "metadata": {},
   "outputs": [],
   "source": []
  }
 ],
 "metadata": {
  "kernelspec": {
   "display_name": "Python 3",
   "language": "python",
   "name": "python3"
  },
  "language_info": {
   "codemirror_mode": {
    "name": "ipython",
    "version": 3
   },
   "file_extension": ".py",
   "mimetype": "text/x-python",
   "name": "python",
   "nbconvert_exporter": "python",
   "pygments_lexer": "ipython3",
   "version": "3.7.1"
  }
 },
 "nbformat": 4,
 "nbformat_minor": 2
}
